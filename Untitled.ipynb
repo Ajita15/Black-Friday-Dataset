{
 "cells": [
  {
   "cell_type": "code",
   "execution_count": 1,
   "metadata": {
    "collapsed": true
   },
   "outputs": [],
   "source": [
    "import pandas as pd\n",
    "import matplotlib.pyplot as plt\n",
    "import numpy as np\n",
    "%matplotlib inline"
   ]
  },
  {
   "cell_type": "code",
   "execution_count": 2,
   "metadata": {
    "collapsed": false
   },
   "outputs": [],
   "source": [
    "df1=pd.read_csv(\"train.csv\")\n",
    "df2=pd.read_csv(\"test.csv\")"
   ]
  },
  {
   "cell_type": "code",
   "execution_count": 3,
   "metadata": {
    "collapsed": false
   },
   "outputs": [
    {
     "name": "stdout",
     "output_type": "stream",
     "text": [
      "(550068, 12)\n",
      "(233599, 11)\n"
     ]
    }
   ],
   "source": [
    "print(df1.shape)\n",
    "print(df2.shape)"
   ]
  },
  {
   "cell_type": "code",
   "execution_count": 4,
   "metadata": {
    "collapsed": false,
    "scrolled": false
   },
   "outputs": [
    {
     "name": "stdout",
     "output_type": "stream",
     "text": [
      "<class 'pandas.core.frame.DataFrame'>\n",
      "RangeIndex: 550068 entries, 0 to 550067\n",
      "Data columns (total 12 columns):\n",
      "User_ID                       550068 non-null int64\n",
      "Product_ID                    550068 non-null object\n",
      "Gender                        550068 non-null object\n",
      "Age                           550068 non-null object\n",
      "Occupation                    550068 non-null int64\n",
      "City_Category                 550068 non-null object\n",
      "Stay_In_Current_City_Years    550068 non-null object\n",
      "Marital_Status                550068 non-null int64\n",
      "Product_Category_1            550068 non-null int64\n",
      "Product_Category_2            376430 non-null float64\n",
      "Product_Category_3            166821 non-null float64\n",
      "Purchase                      550068 non-null int64\n",
      "dtypes: float64(2), int64(5), object(5)\n",
      "memory usage: 50.4+ MB\n",
      "None\n"
     ]
    }
   ],
   "source": [
    "print(df1.info())"
   ]
  },
  {
   "cell_type": "code",
   "execution_count": 5,
   "metadata": {
    "collapsed": false,
    "scrolled": true
   },
   "outputs": [
    {
     "name": "stdout",
     "output_type": "stream",
     "text": [
      "M    414259\n",
      "F    135809\n",
      "Name: Gender, dtype: int64\n",
      "\n",
      "26-35    219587\n",
      "36-45    110013\n",
      "18-25     99660\n",
      "46-50     45701\n",
      "51-55     38501\n",
      "55+       21504\n",
      "0-17      15102\n",
      "Name: Age, dtype: int64\n",
      "\n",
      "4     72308\n",
      "0     69638\n",
      "7     59133\n",
      "1     47426\n",
      "17    40043\n",
      "20    33562\n",
      "12    31179\n",
      "14    27309\n",
      "2     26588\n",
      "16    25371\n",
      "6     20355\n",
      "3     17650\n",
      "10    12930\n",
      "5     12177\n",
      "15    12165\n",
      "11    11586\n",
      "19     8461\n",
      "13     7728\n",
      "18     6622\n",
      "9      6291\n",
      "8      1546\n",
      "Name: Occupation, dtype: int64\n",
      "\n",
      "B    231173\n",
      "C    171175\n",
      "A    147720\n",
      "Name: City_Category, dtype: int64\n",
      "\n",
      "1     193821\n",
      "2     101838\n",
      "3      95285\n",
      "4+     84726\n",
      "0      74398\n",
      "Name: Stay_In_Current_City_Years, dtype: int64\n",
      "\n",
      "0    324731\n",
      "1    225337\n",
      "Name: Marital_Status, dtype: int64\n",
      "\n",
      "5     150933\n",
      "1     140378\n",
      "8     113925\n",
      "11     24287\n",
      "2      23864\n",
      "6      20466\n",
      "3      20213\n",
      "4      11753\n",
      "16      9828\n",
      "15      6290\n",
      "13      5549\n",
      "10      5125\n",
      "12      3947\n",
      "7       3721\n",
      "18      3125\n",
      "20      2550\n",
      "19      1603\n",
      "14      1523\n",
      "17       578\n",
      "9        410\n",
      "Name: Product_Category_1, dtype: int64\n",
      "\n",
      "8.0     64088\n",
      "14.0    55108\n",
      "2.0     49217\n",
      "16.0    43255\n",
      "15.0    37855\n",
      "5.0     26235\n",
      "4.0     25677\n",
      "6.0     16466\n",
      "11.0    14134\n",
      "17.0    13320\n",
      "13.0    10531\n",
      "9.0      5693\n",
      "12.0     5528\n",
      "10.0     3043\n",
      "3.0      2884\n",
      "18.0     2770\n",
      "7.0       626\n",
      "Name: Product_Category_2, dtype: int64\n",
      "\n",
      "16.0    32636\n",
      "15.0    28013\n",
      "14.0    18428\n",
      "17.0    16702\n",
      "5.0     16658\n",
      "8.0     12562\n",
      "9.0     11579\n",
      "12.0     9246\n",
      "13.0     5459\n",
      "6.0      4890\n",
      "18.0     4629\n",
      "4.0      1875\n",
      "11.0     1805\n",
      "10.0     1726\n",
      "3.0       613\n",
      "Name: Product_Category_3, dtype: int64\n",
      "\n"
     ]
    }
   ],
   "source": [
    "for j in df1.columns:\n",
    "    if (j!='User_ID' and j!='Product_ID' and j!='Purchase'):\n",
    "        print(df1[j].value_counts())\n",
    "        print()"
   ]
  },
  {
   "cell_type": "markdown",
   "metadata": {},
   "source": [
    "#### Data Visualization prior to dealing with null values"
   ]
  },
  {
   "cell_type": "code",
   "execution_count": 6,
   "metadata": {
    "collapsed": false,
    "scrolled": true
   },
   "outputs": [
    {
     "data": {
      "text/plain": [
       "<matplotlib.axes._subplots.AxesSubplot at 0x1ec9ef395f8>"
      ]
     },
     "execution_count": 6,
     "metadata": {},
     "output_type": "execute_result"
    },
    {
     "data": {
      "image/png": "[encoded data removed]",
      "text/plain": [
       "<Figure size 648x1080 with 1 Axes>"
      ]
     },
     "metadata": {},
     "output_type": "display_data"
    }
   ],
   "source": [
    "import seaborn as sns\n",
    "plt.figure(figsize=(9,15))\n",
    "sns.countplot(x='City_Category',hue='Product_Category_2',data=df1)"
   ]
  },
  {
   "cell_type": "code",
   "execution_count": 7,
   "metadata": {
    "collapsed": false,
    "scrolled": true
   },
   "outputs": [
    {
     "data": {
      "text/plain": [
       "<matplotlib.axes._subplots.AxesSubplot at 0x1ec9ef39588>"
      ]
     },
     "execution_count": 7,
     "metadata": {},
     "output_type": "execute_result"
    },
    {
     "data": {
      "image/png": "[encoded data removed]",
      "text/plain": [
       "<Figure size 1080x504 with 1 Axes>"
      ]
     },
     "metadata": {},
     "output_type": "display_data"
    }
   ],
   "source": [
    "plt.figure(figsize=(15,7))\n",
    "sns.countplot(x='Marital_Status',hue='Product_Category_2',data=df1)"
   ]
  },
  {
   "cell_type": "code",
   "execution_count": 8,
   "metadata": {
    "collapsed": false,
    "scrolled": true
   },
   "outputs": [
    {
     "data": {
      "text/plain": [
       "<matplotlib.axes._subplots.AxesSubplot at 0x1eca0700c50>"
      ]
     },
     "execution_count": 8,
     "metadata": {},
     "output_type": "execute_result"
    },
    {
     "data": {
      "image/png": "[encoded data removed]",
      "text/plain": [
       "<Figure size 1080x504 with 1 Axes>"
      ]
     },
     "metadata": {},
     "output_type": "display_data"
    }
   ],
   "source": [
    "plt.figure(figsize=(15,7))\n",
    "sns.countplot(x='Age',hue='Product_Category_2',data=df1)"
   ]
  },
  {
   "cell_type": "code",
   "execution_count": 9,
   "metadata": {
    "collapsed": false
   },
   "outputs": [
    {
     "data": {
      "text/plain": [
       "<matplotlib.axes._subplots.AxesSubplot at 0x1ec9ef39438>"
      ]
     },
     "execution_count": 9,
     "metadata": {},
     "output_type": "execute_result"
    },
    {
     "data": {
      "image/png": "[encoded data removed]",
      "text/plain": [
       "<Figure size 1080x504 with 1 Axes>"
      ]
     },
     "metadata": {},
     "output_type": "display_data"
    }
   ],
   "source": [
    "plt.figure(figsize=(15,7))\n",
    "sns.countplot(x='Gender',hue='Product_Category_2',data=df1)"
   ]
  },
  {
   "cell_type": "code",
   "execution_count": 10,
   "metadata": {
    "collapsed": false,
    "scrolled": true
   },
   "outputs": [
    {
     "name": "stdout",
     "output_type": "stream",
     "text": [
      "                    User_ID                                                 \\\n",
      "                   <lambda>                                                  \n",
      "Product_Category_2     2.0   3.0   4.0   5.0   6.0  7.0   8.0   9.0   10.0   \n",
      "Gender                                                                       \n",
      "F                      1364   393  1156  1211  1041  128  1590   681   471   \n",
      "M                      3800  1407  2957  3365  3083  446  4030  1786  1399   \n",
      "\n",
      "                                                                    \n",
      "                                                                    \n",
      "Product_Category_2  11.0  12.0  13.0  14.0  15.0  16.0  17.0  18.0  \n",
      "Gender                                                              \n",
      "F                    881   668   948  1551  1184  1376   875   327  \n",
      "M                   2891  1588  2657  3719  3626  3756  2687  1217  \n"
     ]
    }
   ],
   "source": [
    "table2=pd.pivot_table(df1,values=['User_ID'],index='Gender',columns='Product_Category_2',aggfunc={lambda x:x.value_counts().count()})\n",
    "print(table2)"
   ]
  },
  {
   "cell_type": "code",
   "execution_count": 11,
   "metadata": {
    "collapsed": false
   },
   "outputs": [
    {
     "data": {
      "text/plain": [
       "<matplotlib.axes._subplots.AxesSubplot at 0x1eca0806978>"
      ]
     },
     "execution_count": 11,
     "metadata": {},
     "output_type": "execute_result"
    },
    {
     "data": {
      "image/png": "[encoded data removed]",
      "text/plain": [
       "<Figure size 1080x504 with 1 Axes>"
      ]
     },
     "metadata": {},
     "output_type": "display_data"
    }
   ],
   "source": [
    "plt.figure(figsize=(15,7))\n",
    "sns.countplot(x='Occupation',hue='Product_Category_2',data=df1)"
   ]
  },
  {
   "cell_type": "code",
   "execution_count": 12,
   "metadata": {
    "collapsed": false,
    "scrolled": true
   },
   "outputs": [
    {
     "name": "stdout",
     "output_type": "stream",
     "text": [
      "                    User_ID                                            ...   \\\n",
      "                   <lambda>                                            ...    \n",
      "Occupation               0    1    2    3    4    5    6    7   8   9  ...    \n",
      "Product_Category_2                                                     ...    \n",
      "2.0                     593  446  221  153  666   99  185  569  17  69 ...    \n",
      "3.0                     204  138   79   51  252   49   69  172   3  17 ...    \n",
      "4.0                     465  366  174  115  548   78  145  423  13  60 ...    \n",
      "5.0                     532  381  197  139  585   88  168  501  13  64 ...    \n",
      "6.0                     475  359  197  118  536   80  154  456  12  52 ...    \n",
      "7.0                      80   57   32   18   81    6   25   54   1   1 ...    \n",
      "8.0                     656  498  239  160  711  104  217  636  16  85 ...    \n",
      "9.0                     305  202  126   75  309   50   84  256   8  36 ...    \n",
      "10.0                    217  168   95   61  219   35   75  208   4  18 ...    \n",
      "11.0                    448  288  155  116  498   80  123  434   9  39 ...    \n",
      "12.0                    272  207  121   76  287   46   80  239   5  36 ...    \n",
      "13.0                    432  332  165  118  435   62  127  402   8  41 ...    \n",
      "14.0                    619  470  226  160  679   98  207  580  13  83 ...    \n",
      "15.0                    561  401  216  139  622   95  170  534  16  52 ...    \n",
      "16.0                    599  447  223  156  661   96  192  593  14  62 ...    \n",
      "17.0                    401  318  156  105  427   68  134  424  10  35 ...    \n",
      "18.0                    176  149   72   50  158   42   53  207   2  14 ...    \n",
      "\n",
      "                                                                    \n",
      "                                                                    \n",
      "Occupation           11   12   13   14   15   16   17  18  19   20  \n",
      "Product_Category_2                                                  \n",
      "2.0                 118  347  103  258  130  209  444  62  66  241  \n",
      "3.0                  25  139   25   88   54   74  154  20  26   89  \n",
      "4.0                  91  279   81  187  101  160  352  49  60  204  \n",
      "5.0                  94  305   88  231  119  198  390  53  59  220  \n",
      "6.0                  97  258   89  204  104  170  342  46  55  211  \n",
      "7.0                  21   31    9   27    8   23   36   9   8   39  \n",
      "8.0                 124  360  131  280  136  226  463  63  71  267  \n",
      "9.0                  50  160   33  122   66   99  221  27  36  124  \n",
      "10.0                 55  110   40  106   42   83  142  18  24  125  \n",
      "11.0                 82  261   64  184   93  157  338  51  52  191  \n",
      "12.0                 54  141   43  102   50  103  142  27  34  126  \n",
      "13.0                 79  232   90  182   89  159  276  37  49  190  \n",
      "14.0                116  336  127  262  123  210  429  60  65  242  \n",
      "15.0                 96  324   89  236  120  195  434  62  63  226  \n",
      "16.0                120  332  111  265  122  205  422  59  60  245  \n",
      "17.0                 90  242   86  180   96  159  288  39  47  179  \n",
      "18.0                 39   79   38   71   36   76  127  25  22   85  \n",
      "\n",
      "[17 rows x 21 columns]\n"
     ]
    }
   ],
   "source": [
    "table1=pd.pivot_table(df1,values=['User_ID'],index=['Product_Category_2'],columns=['Occupation'],aggfunc={lambda x:x.value_counts().count()})\n",
    "print(table1)"
   ]
  },
  {
   "cell_type": "code",
   "execution_count": 13,
   "metadata": {
    "collapsed": false,
    "scrolled": true
   },
   "outputs": [
    {
     "name": "stdout",
     "output_type": "stream",
     "text": [
      "                    User_ID                                                 \\\n",
      "                   <lambda>                                                  \n",
      "Product_Category_3     3.0  4.0   5.0   6.0   8.0   9.0   10.0  11.0  12.0   \n",
      "Gender                                                                       \n",
      "F                        89  263  1154   453  1106   884   350   248   784   \n",
      "M                       471  869  3092  1749  3034  2679  1098  1022  2114   \n",
      "\n",
      "                                                        \n",
      "                                                        \n",
      "Product_Category_3  13.0  14.0  15.0  16.0  17.0  18.0  \n",
      "Gender                                                  \n",
      "F                    645  1248  1000  1329  1215   524  \n",
      "M                   1995  3085  3248  3680  3258  1868  \n"
     ]
    }
   ],
   "source": [
    "table3=pd.pivot_table(df1,values=['User_ID'],columns=['Product_Category_3'],index=['Gender'],aggfunc={lambda x:x.value_counts().count()})\n",
    "print(table3)"
   ]
  },
  {
   "cell_type": "markdown",
   "metadata": {},
   "source": [
    "#### Checking for outliers                                                                                                                                                                                              \n",
    "-Looking at the unique values of each column we can conclude that there is no outliers in univariate case."
   ]
  },
  {
   "cell_type": "code",
   "execution_count": 14,
   "metadata": {
    "collapsed": true
   },
   "outputs": [],
   "source": [
    "#filling the missing values with sentinel value\n",
    "train_df=df1.copy()\n",
    "test_df=df2.copy()"
   ]
  },
  {
   "cell_type": "code",
   "execution_count": 15,
   "metadata": {
    "collapsed": true
   },
   "outputs": [],
   "source": [
    "train_df.fillna(999,inplace=True)"
   ]
  },
  {
   "cell_type": "code",
   "execution_count": 16,
   "metadata": {
    "collapsed": false,
    "scrolled": false
   },
   "outputs": [
    {
     "name": "stdout",
     "output_type": "stream",
     "text": [
      "<class 'pandas.core.frame.DataFrame'>\n",
      "RangeIndex: 550068 entries, 0 to 550067\n",
      "Data columns (total 12 columns):\n",
      "User_ID                       550068 non-null int64\n",
      "Product_ID                    550068 non-null object\n",
      "Gender                        550068 non-null object\n",
      "Age                           550068 non-null object\n",
      "Occupation                    550068 non-null int64\n",
      "City_Category                 550068 non-null object\n",
      "Stay_In_Current_City_Years    550068 non-null object\n",
      "Marital_Status                550068 non-null int64\n",
      "Product_Category_1            550068 non-null int64\n",
      "Product_Category_2            550068 non-null float64\n",
      "Product_Category_3            550068 non-null float64\n",
      "Purchase                      550068 non-null int64\n",
      "dtypes: float64(2), int64(5), object(5)\n",
      "memory usage: 50.4+ MB\n"
     ]
    }
   ],
   "source": [
    "train_df.info()"
   ]
  },
  {
   "cell_type": "code",
   "execution_count": 17,
   "metadata": {
    "collapsed": false
   },
   "outputs": [
    {
     "name": "stdout",
     "output_type": "stream",
     "text": [
      "<class 'pandas.core.frame.DataFrame'>\n",
      "RangeIndex: 233599 entries, 0 to 233598\n",
      "Data columns (total 11 columns):\n",
      "User_ID                       233599 non-null int64\n",
      "Product_ID                    233599 non-null object\n",
      "Gender                        233599 non-null object\n",
      "Age                           233599 non-null object\n",
      "Occupation                    233599 non-null int64\n",
      "City_Category                 233599 non-null object\n",
      "Stay_In_Current_City_Years    233599 non-null object\n",
      "Marital_Status                233599 non-null int64\n",
      "Product_Category_1            233599 non-null int64\n",
      "Product_Category_2            161255 non-null float64\n",
      "Product_Category_3            71037 non-null float64\n",
      "dtypes: float64(2), int64(4), object(5)\n",
      "memory usage: 19.6+ MB\n"
     ]
    }
   ],
   "source": [
    "test_df.info()"
   ]
  },
  {
   "cell_type": "code",
   "execution_count": 18,
   "metadata": {
    "collapsed": true
   },
   "outputs": [],
   "source": [
    "test_df.fillna(999,inplace=True)"
   ]
  },
  {
   "cell_type": "code",
   "execution_count": 19,
   "metadata": {
    "collapsed": true
   },
   "outputs": [
    {
     "name": "stdout",
     "output_type": "stream",
     "text": [
      "M    414259\n",
      "F    135809\n",
      "Name: Gender, dtype: int64\n",
      "\n",
      "26-35    219587\n",
      "36-45    110013\n",
      "18-25     99660\n",
      "46-50     45701\n",
      "51-55     38501\n",
      "55+       21504\n",
      "0-17      15102\n",
      "Name: Age, dtype: int64\n",
      "\n",
      "4     72308\n",
      "0     69638\n",
      "7     59133\n",
      "1     47426\n",
      "17    40043\n",
      "20    33562\n",
      "12    31179\n",
      "14    27309\n",
      "2     26588\n",
      "16    25371\n",
      "6     20355\n",
      "3     17650\n",
      "10    12930\n",
      "5     12177\n",
      "15    12165\n",
      "11    11586\n",
      "19     8461\n",
      "13     7728\n",
      "18     6622\n",
      "9      6291\n",
      "8      1546\n",
      "Name: Occupation, dtype: int64\n",
      "\n",
      "B    231173\n",
      "C    171175\n",
      "A    147720\n",
      "Name: City_Category, dtype: int64\n",
      "\n",
      "1     193821\n",
      "2     101838\n",
      "3      95285\n",
      "4+     84726\n",
      "0      74398\n",
      "Name: Stay_In_Current_City_Years, dtype: int64\n",
      "\n",
      "0    324731\n",
      "1    225337\n",
      "Name: Marital_Status, dtype: int64\n",
      "\n",
      "5     150933\n",
      "1     140378\n",
      "8     113925\n",
      "11     24287\n",
      "2      23864\n",
      "6      20466\n",
      "3      20213\n",
      "4      11753\n",
      "16      9828\n",
      "15      6290\n",
      "13      5549\n",
      "10      5125\n",
      "12      3947\n",
      "7       3721\n",
      "18      3125\n",
      "20      2550\n",
      "19      1603\n",
      "14      1523\n",
      "17       578\n",
      "9        410\n",
      "Name: Product_Category_1, dtype: int64\n",
      "\n",
      "8.0     64088\n",
      "14.0    55108\n",
      "2.0     49217\n",
      "16.0    43255\n",
      "15.0    37855\n",
      "5.0     26235\n",
      "4.0     25677\n",
      "6.0     16466\n",
      "11.0    14134\n",
      "17.0    13320\n",
      "13.0    10531\n",
      "9.0      5693\n",
      "12.0     5528\n",
      "10.0     3043\n",
      "3.0      2884\n",
      "18.0     2770\n",
      "7.0       626\n",
      "Name: Product_Category_2, dtype: int64\n",
      "\n",
      "16.0    32636\n",
      "15.0    28013\n",
      "14.0    18428\n",
      "17.0    16702\n",
      "5.0     16658\n",
      "8.0     12562\n",
      "9.0     11579\n",
      "12.0     9246\n",
      "13.0     5459\n",
      "6.0      4890\n",
      "18.0     4629\n",
      "4.0      1875\n",
      "11.0     1805\n",
      "10.0     1726\n",
      "3.0       613\n",
      "Name: Product_Category_3, dtype: int64\n",
      "\n"
     ]
    }
   ],
   "source": [
    "for j in df1.columns:\n",
    "    if (j!='User_ID' and j!='Product_ID' and j!='Purchase'):\n",
    "        print(df1[j].value_counts())\n",
    "        print()"
   ]
  },
  {
   "cell_type": "code",
   "execution_count": 20,
   "metadata": {
    "collapsed": false
   },
   "outputs": [],
   "source": [
    "gender_dict={'M':0,'F':1}\n",
    "age_dict={'26-35':0,'36-45':1,'18-25':2,'46-50':3,'51-55':4,'55+':5,'0-17':6}\n",
    "city_dict={'A':0,'B':1,'C':2}\n",
    "current_city_dict={'0':0,'1':1,'2':2,'3':3,'4+':4}"
   ]
  },
  {
   "cell_type": "code",
   "execution_count": 21,
   "metadata": {
    "collapsed": false,
    "scrolled": true
   },
   "outputs": [],
   "source": [
    "train_df['Age']=train_df['Age'].apply(lambda x:age_dict[x])\n",
    "test_df['Age']=test_df['Age'].apply(lambda x:age_dict[x])\n",
    "train_df['Gender']=train_df['Gender'].apply(lambda x:gender_dict[x])\n",
    "test_df['Gender']=test_df['Gender'].apply(lambda x:gender_dict[x])\n",
    "train_df['City_Category']=train_df['City_Category'].apply(lambda x:city_dict[x])\n",
    "test_df['City_Category']=test_df['City_Category'].apply(lambda x:city_dict[x])\n",
    "train_df['Stay_In_Current_City_Years']=train_df['Stay_In_Current_City_Years'].apply(lambda x:current_city_dict[x])\n",
    "test_df['Stay_In_Current_City_Years']=test_df['Stay_In_Current_City_Years'].apply(lambda x:current_city_dict[x])"
   ]
  },
  {
   "cell_type": "code",
   "execution_count": 22,
   "metadata": {
    "collapsed": false,
    "scrolled": true
   },
   "outputs": [
    {
     "name": "stdout",
     "output_type": "stream",
     "text": [
      "<class 'pandas.core.frame.DataFrame'>\n",
      "RangeIndex: 550068 entries, 0 to 550067\n",
      "Data columns (total 12 columns):\n",
      "User_ID                       550068 non-null int64\n",
      "Product_ID                    550068 non-null object\n",
      "Gender                        550068 non-null int64\n",
      "Age                           550068 non-null int64\n",
      "Occupation                    550068 non-null int64\n",
      "City_Category                 550068 non-null int64\n",
      "Stay_In_Current_City_Years    550068 non-null int64\n",
      "Marital_Status                550068 non-null int64\n",
      "Product_Category_1            550068 non-null int64\n",
      "Product_Category_2            550068 non-null float64\n",
      "Product_Category_3            550068 non-null float64\n",
      "Purchase                      550068 non-null int64\n",
      "dtypes: float64(2), int64(9), object(1)\n",
      "memory usage: 50.4+ MB\n",
      "None\n",
      "<class 'pandas.core.frame.DataFrame'>\n",
      "RangeIndex: 233599 entries, 0 to 233598\n",
      "Data columns (total 11 columns):\n",
      "User_ID                       233599 non-null int64\n",
      "Product_ID                    233599 non-null object\n",
      "Gender                        233599 non-null int64\n",
      "Age                           233599 non-null int64\n",
      "Occupation                    233599 non-null int64\n",
      "City_Category                 233599 non-null int64\n",
      "Stay_In_Current_City_Years    233599 non-null int64\n",
      "Marital_Status                233599 non-null int64\n",
      "Product_Category_1            233599 non-null int64\n",
      "Product_Category_2            233599 non-null float64\n",
      "Product_Category_3            233599 non-null float64\n",
      "dtypes: float64(2), int64(8), object(1)\n",
      "memory usage: 19.6+ MB\n",
      "None\n"
     ]
    }
   ],
   "source": [
    "print(train_df.info())\n",
    "print(test_df.info())"
   ]
  },
  {
   "cell_type": "code",
   "execution_count": 23,
   "metadata": {
    "collapsed": false,
    "scrolled": true
   },
   "outputs": [],
   "source": [
    "train_y=train_df['Purchase']\n",
    "train_x=train_df.copy()\n",
    "train_x.drop(['Purchase'],axis=1,inplace=True)"
   ]
  },
  {
   "cell_type": "code",
   "execution_count": 57,
   "metadata": {
    "collapsed": false,
    "scrolled": true
   },
   "outputs": [],
   "source": [
    "product_id=pd.concat([train_x['Product_ID'],test_df['Product_ID']],axis=0)"
   ]
  },
  {
   "cell_type": "code",
   "execution_count": 58,
   "metadata": {
    "collapsed": false
   },
   "outputs": [
    {
     "data": {
      "text/plain": [
       "783667"
      ]
     },
     "execution_count": 58,
     "metadata": {},
     "output_type": "execute_result"
    }
   ],
   "source": [
    "len(product_id)"
   ]
  },
  {
   "cell_type": "code",
   "execution_count": 59,
   "metadata": {
    "collapsed": false
   },
   "outputs": [
    {
     "data": {
      "text/plain": [
       "783667"
      ]
     },
     "execution_count": 59,
     "metadata": {},
     "output_type": "execute_result"
    }
   ],
   "source": [
    "user_id=pd.concat([train_x['User_ID'],test_df['User_ID']],axis=0)\n",
    "len(user_id)"
   ]
  },
  {
   "cell_type": "code",
   "execution_count": 64,
   "metadata": {
    "collapsed": false,
    "scrolled": true
   },
   "outputs": [],
   "source": [
    "product_id_count=product_id.value_counts()"
   ]
  },
  {
   "cell_type": "code",
   "execution_count": 65,
   "metadata": {
    "collapsed": false,
    "scrolled": true
   },
   "outputs": [
    {
     "name": "stdout",
     "output_type": "stream",
     "text": [
      "P00265242\n"
     ]
    }
   ],
   "source": [
    "#print(type(product_id_count))\n",
    "#print(product_id_count)\n",
    "print(product_id_count.index[0])"
   ]
  },
  {
   "cell_type": "code",
   "execution_count": 86,
   "metadata": {
    "collapsed": false,
    "scrolled": true
   },
   "outputs": [],
   "source": [
    "product_id_dict={}\n",
    "reverse_product_dict={}\n",
    "for id in product_id_count.index:\n",
    "    #print(id)\n",
    "    if (id not in product_id_dict.keys()):\n",
    "        product_id_dict[id]=len(product_id_dict)\n",
    "        reverse_product_dict[len(reverse_product_dict)]=id"
   ]
  },
  {
   "cell_type": "code",
   "execution_count": 87,
   "metadata": {
    "collapsed": false
   },
   "outputs": [
    {
     "data": {
      "text/plain": [
       "3677"
      ]
     },
     "execution_count": 87,
     "metadata": {},
     "output_type": "execute_result"
    }
   ],
   "source": [
    "len(product_id_dict)"
   ]
  },
  {
   "cell_type": "code",
   "execution_count": 111,
   "metadata": {
    "collapsed": false,
    "scrolled": true
   },
   "outputs": [],
   "source": [
    "user_id_count=user_id.value_counts()\n",
    "user_id_dict={}\n",
    "reverse_user_dict={}\n",
    "for id in user_id_count.index:\n",
    "    #print(id)\n",
    "    if (id not in user_id_dict.keys()):\n",
    "        user_id_dict[id]=len(user_id_dict)\n",
    "        reverse_user_dict[len(reverse_user_dict)]=id"
   ]
  },
  {
   "cell_type": "code",
   "execution_count": 112,
   "metadata": {
    "collapsed": false
   },
   "outputs": [
    {
     "data": {
      "text/plain": [
       "1001680"
      ]
     },
     "execution_count": 112,
     "metadata": {},
     "output_type": "execute_result"
    }
   ],
   "source": [
    "reverse_user_dict[0]"
   ]
  },
  {
   "cell_type": "code",
   "execution_count": 113,
   "metadata": {
    "collapsed": false
   },
   "outputs": [
    {
     "data": {
      "text/plain": [
       "0"
      ]
     },
     "execution_count": 113,
     "metadata": {},
     "output_type": "execute_result"
    }
   ],
   "source": [
    "user_id_dict[1001680]"
   ]
  },
  {
   "cell_type": "code",
   "execution_count": 114,
   "metadata": {
    "collapsed": false
   },
   "outputs": [],
   "source": [
    "train_x2=train_x.copy()\n",
    "#test_x2=test_x.copy()"
   ]
  },
  {
   "cell_type": "code",
   "execution_count": 115,
   "metadata": {
    "collapsed": false,
    "scrolled": true
   },
   "outputs": [],
   "source": [
    "train_x2['Product_ID']=train_x2['Product_ID'].apply(lambda x:product_id_dict[x])\n",
    "train_x2['User_ID']=train_x2['User_ID'].apply(lambda x:user_id_dict[x])"
   ]
  },
  {
   "cell_type": "code",
   "execution_count": 116,
   "metadata": {
    "collapsed": false,
    "scrolled": false
   },
   "outputs": [],
   "source": [
    "test_df2=test_df.copy()\n",
    "test_df2['Product_ID']=test_df2['Product_ID'].apply(lambda x:product_id_dict[x])\n",
    "test_df2['User_ID']=test_df2['User_ID'].apply(lambda x:user_id_dict[x])"
   ]
  },
  {
   "cell_type": "code",
   "execution_count": 75,
   "metadata": {
    "collapsed": false
   },
   "outputs": [
    {
     "data": {
      "text/plain": [
       "True"
      ]
     },
     "execution_count": 75,
     "metadata": {},
     "output_type": "execute_result"
    }
   ],
   "source": [
    "'P00168242' in product_id_dict.keys()"
   ]
  },
  {
   "cell_type": "code",
   "execution_count": 34,
   "metadata": {
    "collapsed": false,
    "scrolled": true
   },
   "outputs": [
    {
     "data": {
      "text/plain": [
       "0       1880\n",
       "1       1615\n",
       "2       1612\n",
       "3       1562\n",
       "4       1470\n",
       "5       1440\n",
       "6       1438\n",
       "7       1422\n",
       "8       1406\n",
       "9       1406\n",
       "10      1394\n",
       "11      1383\n",
       "12      1364\n",
       "13      1360\n",
       "14      1350\n",
       "15      1282\n",
       "16      1281\n",
       "17      1260\n",
       "18      1249\n",
       "19      1246\n",
       "20      1226\n",
       "21      1215\n",
       "22      1212\n",
       "23      1204\n",
       "24      1203\n",
       "25      1200\n",
       "26      1197\n",
       "27      1187\n",
       "28      1178\n",
       "29      1152\n",
       "        ... \n",
       "3608       1\n",
       "3513       1\n",
       "3565       1\n",
       "3618       1\n",
       "3510       1\n",
       "3563       1\n",
       "3511       1\n",
       "3619       1\n",
       "3508       1\n",
       "3616       1\n",
       "3562       1\n",
       "3509       1\n",
       "3617       1\n",
       "3506       1\n",
       "3614       1\n",
       "3507       1\n",
       "3501       1\n",
       "3615       1\n",
       "3564       1\n",
       "3505       1\n",
       "3612       1\n",
       "3502       1\n",
       "3613       1\n",
       "3567       1\n",
       "3503       1\n",
       "3610       1\n",
       "3500       1\n",
       "3566       1\n",
       "3611       1\n",
       "3504       1\n",
       "Name: Product_ID, dtype: int64"
      ]
     },
     "execution_count": 34,
     "metadata": {},
     "output_type": "execute_result"
    }
   ],
   "source": [
    "train_x2['Product_ID'].value_counts()"
   ]
  },
  {
   "cell_type": "code",
   "execution_count": 35,
   "metadata": {
    "collapsed": false
   },
   "outputs": [
    {
     "data": {
      "text/plain": [
       "'def getCountVar(compute_df, count_df, var_name):\\n    grouped_df = count_df.groupby(var_name)\\n    count_dict = {}\\n    for name, group in grouped_df:\\n        count_dict[name] = group.shape[0]\\n    count_list = []\\n    for index, row in compute_df.iterrows():\\n        name = row[var_name]\\n        count_list.append(count_dict.get(name, 0))\\n    return count_list'"
      ]
     },
     "execution_count": 35,
     "metadata": {},
     "output_type": "execute_result"
    }
   ],
   "source": [
    "'''def getCountVar(compute_df, count_df, var_name):\n",
    "    grouped_df = count_df.groupby(var_name)\n",
    "    count_dict = {}\n",
    "    for name, group in grouped_df:\n",
    "        count_dict[name] = group.shape[0]\n",
    "    count_list = []\n",
    "    for index, row in compute_df.iterrows():\n",
    "        name = row[var_name]\n",
    "        count_list.append(count_dict.get(name, 0))\n",
    "    return count_list'''"
   ]
  },
  {
   "cell_type": "code",
   "execution_count": 117,
   "metadata": {
    "collapsed": false,
    "scrolled": true
   },
   "outputs": [
    {
     "name": "stdout",
     "output_type": "stream",
     "text": [
      "<class 'pandas.core.frame.DataFrame'>\n",
      "RangeIndex: 550068 entries, 0 to 550067\n",
      "Data columns (total 11 columns):\n",
      "User_ID                       550068 non-null int64\n",
      "Product_ID                    550068 non-null int64\n",
      "Gender                        550068 non-null int64\n",
      "Age                           550068 non-null int64\n",
      "Occupation                    550068 non-null int64\n",
      "City_Category                 550068 non-null int64\n",
      "Stay_In_Current_City_Years    550068 non-null int64\n",
      "Marital_Status                550068 non-null int64\n",
      "Product_Category_1            550068 non-null int64\n",
      "Product_Category_2            550068 non-null float64\n",
      "Product_Category_3            550068 non-null float64\n",
      "dtypes: float64(2), int64(9)\n",
      "memory usage: 46.2 MB\n"
     ]
    }
   ],
   "source": [
    "train_x2.info()"
   ]
  },
  {
   "cell_type": "code",
   "execution_count": 118,
   "metadata": {
    "collapsed": true
   },
   "outputs": [],
   "source": [
    "from sklearn.model_selection import train_test_split\n",
    "x_train,x_test,y_train,y_test=train_test_split(train_x2,train_y,test_size=0.02)"
   ]
  },
  {
   "cell_type": "code",
   "execution_count": 119,
   "metadata": {
    "collapsed": false
   },
   "outputs": [
    {
     "name": "stdout",
     "output_type": "stream",
     "text": [
      "(539066, 11)\n",
      "(11002, 11)\n"
     ]
    }
   ],
   "source": [
    "print(x_train.shape)\n",
    "print(x_test.shape)"
   ]
  },
  {
   "cell_type": "code",
   "execution_count": null,
   "metadata": {
    "collapsed": true
   },
   "outputs": [],
   "source": []
  },
  {
   "cell_type": "code",
   "execution_count": 120,
   "metadata": {
    "collapsed": false
   },
   "outputs": [
    {
     "data": {
      "text/plain": [
       "DecisionTreeRegressor(criterion='mse', max_depth=10, max_features=None,\n",
       "           max_leaf_nodes=None, min_impurity_decrease=0.0,\n",
       "           min_impurity_split=None, min_samples_leaf=1,\n",
       "           min_samples_split=2, min_weight_fraction_leaf=0.0,\n",
       "           presort=False, random_state=None, splitter='best')"
      ]
     },
     "execution_count": 120,
     "metadata": {},
     "output_type": "execute_result"
    }
   ],
   "source": [
    "from sklearn.tree import DecisionTreeRegressor\n",
    "clf=DecisionTreeRegressor(max_depth=10)\n",
    "clf.fit(x_train,y_train)"
   ]
  },
  {
   "cell_type": "code",
   "execution_count": 121,
   "metadata": {
    "collapsed": false,
    "scrolled": false
   },
   "outputs": [
    {
     "data": {
      "text/plain": [
       "([0, 1, 2, 3, 4, 5, 6, 7, 8, 9, 10], <a list of 11 Text xticklabel objects>)"
      ]
     },
     "execution_count": 121,
     "metadata": {},
     "output_type": "execute_result"
    },
    {
     "data": {
      "image/png": "[encoded data removed]",
      "text/plain": [
       "<Figure size 720x360 with 1 Axes>"
      ]
     },
     "metadata": {},
     "output_type": "display_data"
    }
   ],
   "source": [
    "plt.figure(figsize=(10,5))\n",
    "#x=clf.feature_importances_\n",
    "plt.bar(x_train.columns,clf.feature_importances_)\n",
    "plt.xticks(rotation=90)"
   ]
  },
  {
   "cell_type": "code",
   "execution_count": 122,
   "metadata": {
    "collapsed": false
   },
   "outputs": [
    {
     "name": "stdout",
     "output_type": "stream",
     "text": [
      "2767.839075294911\n"
     ]
    }
   ],
   "source": [
    "from sklearn.metrics import mean_squared_error\n",
    "import math\n",
    "y_pred=clf.predict(x_test)\n",
    "print(math.sqrt(mean_squared_error(y_test,y_pred)))\n"
   ]
  },
  {
   "cell_type": "code",
   "execution_count": null,
   "metadata": {
    "collapsed": true
   },
   "outputs": [],
   "source": []
  },
  {
   "cell_type": "code",
   "execution_count": 123,
   "metadata": {
    "collapsed": false
   },
   "outputs": [
    {
     "name": "stderr",
     "output_type": "stream",
     "text": [
      "C:\\Program Files\\Anaconda3\\lib\\site-packages\\ipykernel\\__main__.py:2: SettingWithCopyWarning: \n",
      "A value is trying to be set on a copy of a slice from a DataFrame.\n",
      "Try using .loc[row_indexer,col_indexer] = value instead\n",
      "\n",
      "See the caveats in the documentation: http://pandas.pydata.org/pandas-docs/stable/indexing.html#indexing-view-versus-copy\n",
      "  from ipykernel import kernelapp as app\n"
     ]
    }
   ],
   "source": [
    "test_final1=test_df2[['User_ID','Product_ID']]\n",
    "test_final1['Purchase']=clf.predict(test_df2)"
   ]
  },
  {
   "cell_type": "code",
   "execution_count": 124,
   "metadata": {
    "collapsed": false,
    "scrolled": true
   },
   "outputs": [
    {
     "name": "stderr",
     "output_type": "stream",
     "text": [
      "C:\\Program Files\\Anaconda3\\lib\\site-packages\\ipykernel\\__main__.py:1: SettingWithCopyWarning: \n",
      "A value is trying to be set on a copy of a slice from a DataFrame.\n",
      "Try using .loc[row_indexer,col_indexer] = value instead\n",
      "\n",
      "See the caveats in the documentation: http://pandas.pydata.org/pandas-docs/stable/indexing.html#indexing-view-versus-copy\n",
      "  if __name__ == '__main__':\n",
      "C:\\Program Files\\Anaconda3\\lib\\site-packages\\ipykernel\\__main__.py:2: SettingWithCopyWarning: \n",
      "A value is trying to be set on a copy of a slice from a DataFrame.\n",
      "Try using .loc[row_indexer,col_indexer] = value instead\n",
      "\n",
      "See the caveats in the documentation: http://pandas.pydata.org/pandas-docs/stable/indexing.html#indexing-view-versus-copy\n",
      "  from ipykernel import kernelapp as app\n"
     ]
    }
   ],
   "source": [
    "test_final1['User_ID']=test_final1['User_ID'].apply(lambda x:reverse_user_dict[x])\n",
    "test_final1['Product_ID']=test_final1['Product_ID'].apply(lambda x:reverse_product_dict[x])"
   ]
  },
  {
   "cell_type": "code",
   "execution_count": 125,
   "metadata": {
    "collapsed": false
   },
   "outputs": [
    {
     "data": {
      "text/html": [
       "<div>\n",
       "<table border=\"1\" class=\"dataframe\">\n",
       "  <thead>\n",
       "    <tr style=\"text-align: right;\">\n",
       "      <th></th>\n",
       "      <th>User_ID</th>\n",
       "      <th>Product_ID</th>\n",
       "      <th>Purchase</th>\n",
       "    </tr>\n",
       "  </thead>\n",
       "  <tbody>\n",
       "    <tr>\n",
       "      <th>0</th>\n",
       "      <td>1000004</td>\n",
       "      <td>P00128942</td>\n",
       "      <td>13067.125000</td>\n",
       "    </tr>\n",
       "    <tr>\n",
       "      <th>1</th>\n",
       "      <td>1000009</td>\n",
       "      <td>P00113442</td>\n",
       "      <td>11539.317708</td>\n",
       "    </tr>\n",
       "    <tr>\n",
       "      <th>2</th>\n",
       "      <td>1000010</td>\n",
       "      <td>P00288442</td>\n",
       "      <td>6169.988152</td>\n",
       "    </tr>\n",
       "    <tr>\n",
       "      <th>3</th>\n",
       "      <td>1000010</td>\n",
       "      <td>P00145342</td>\n",
       "      <td>2277.794872</td>\n",
       "    </tr>\n",
       "    <tr>\n",
       "      <th>4</th>\n",
       "      <td>1000011</td>\n",
       "      <td>P00053842</td>\n",
       "      <td>2611.869436</td>\n",
       "    </tr>\n",
       "    <tr>\n",
       "      <th>5</th>\n",
       "      <td>1000013</td>\n",
       "      <td>P00350442</td>\n",
       "      <td>11458.255481</td>\n",
       "    </tr>\n",
       "    <tr>\n",
       "      <th>6</th>\n",
       "      <td>1000013</td>\n",
       "      <td>P00155442</td>\n",
       "      <td>13353.211842</td>\n",
       "    </tr>\n",
       "    <tr>\n",
       "      <th>7</th>\n",
       "      <td>1000013</td>\n",
       "      <td>P0094542</td>\n",
       "      <td>10498.469756</td>\n",
       "    </tr>\n",
       "    <tr>\n",
       "      <th>8</th>\n",
       "      <td>1000015</td>\n",
       "      <td>P00161842</td>\n",
       "      <td>14202.500000</td>\n",
       "    </tr>\n",
       "    <tr>\n",
       "      <th>9</th>\n",
       "      <td>1000022</td>\n",
       "      <td>P00067942</td>\n",
       "      <td>6322.038819</td>\n",
       "    </tr>\n",
       "  </tbody>\n",
       "</table>\n",
       "</div>"
      ],
      "text/plain": [
       "   User_ID Product_ID      Purchase\n",
       "0  1000004  P00128942  13067.125000\n",
       "1  1000009  P00113442  11539.317708\n",
       "2  1000010  P00288442   6169.988152\n",
       "3  1000010  P00145342   2277.794872\n",
       "4  1000011  P00053842   2611.869436\n",
       "5  1000013  P00350442  11458.255481\n",
       "6  1000013  P00155442  13353.211842\n",
       "7  1000013   P0094542  10498.469756\n",
       "8  1000015  P00161842  14202.500000\n",
       "9  1000022  P00067942   6322.038819"
      ]
     },
     "execution_count": 125,
     "metadata": {},
     "output_type": "execute_result"
    }
   ],
   "source": [
    "test_final1.head(10)"
   ]
  },
  {
   "cell_type": "code",
   "execution_count": 126,
   "metadata": {
    "collapsed": true
   },
   "outputs": [],
   "source": [
    "test_final1.to_csv(\"Submission2.csv\")"
   ]
  },
  {
   "cell_type": "code",
   "execution_count": 127,
   "metadata": {
    "collapsed": false
   },
   "outputs": [],
   "source": [
    "test_final1.set_index(['User_ID'],inplace=True)"
   ]
  },
  {
   "cell_type": "code",
   "execution_count": 128,
   "metadata": {
    "collapsed": false
   },
   "outputs": [
    {
     "data": {
      "text/html": [
       "<div>\n",
       "<table border=\"1\" class=\"dataframe\">\n",
       "  <thead>\n",
       "    <tr style=\"text-align: right;\">\n",
       "      <th></th>\n",
       "      <th>Product_ID</th>\n",
       "      <th>Purchase</th>\n",
       "    </tr>\n",
       "    <tr>\n",
       "      <th>User_ID</th>\n",
       "      <th></th>\n",
       "      <th></th>\n",
       "    </tr>\n",
       "  </thead>\n",
       "  <tbody>\n",
       "    <tr>\n",
       "      <th>1000004</th>\n",
       "      <td>P00128942</td>\n",
       "      <td>13067.125000</td>\n",
       "    </tr>\n",
       "    <tr>\n",
       "      <th>1000009</th>\n",
       "      <td>P00113442</td>\n",
       "      <td>11539.317708</td>\n",
       "    </tr>\n",
       "    <tr>\n",
       "      <th>1000010</th>\n",
       "      <td>P00288442</td>\n",
       "      <td>6169.988152</td>\n",
       "    </tr>\n",
       "    <tr>\n",
       "      <th>1000010</th>\n",
       "      <td>P00145342</td>\n",
       "      <td>2277.794872</td>\n",
       "    </tr>\n",
       "    <tr>\n",
       "      <th>1000011</th>\n",
       "      <td>P00053842</td>\n",
       "      <td>2611.869436</td>\n",
       "    </tr>\n",
       "    <tr>\n",
       "      <th>1000013</th>\n",
       "      <td>P00350442</td>\n",
       "      <td>11458.255481</td>\n",
       "    </tr>\n",
       "    <tr>\n",
       "      <th>1000013</th>\n",
       "      <td>P00155442</td>\n",
       "      <td>13353.211842</td>\n",
       "    </tr>\n",
       "    <tr>\n",
       "      <th>1000013</th>\n",
       "      <td>P0094542</td>\n",
       "      <td>10498.469756</td>\n",
       "    </tr>\n",
       "    <tr>\n",
       "      <th>1000015</th>\n",
       "      <td>P00161842</td>\n",
       "      <td>14202.500000</td>\n",
       "    </tr>\n",
       "    <tr>\n",
       "      <th>1000022</th>\n",
       "      <td>P00067942</td>\n",
       "      <td>6322.038819</td>\n",
       "    </tr>\n",
       "  </tbody>\n",
       "</table>\n",
       "</div>"
      ],
      "text/plain": [
       "        Product_ID      Purchase\n",
       "User_ID                         \n",
       "1000004  P00128942  13067.125000\n",
       "1000009  P00113442  11539.317708\n",
       "1000010  P00288442   6169.988152\n",
       "1000010  P00145342   2277.794872\n",
       "1000011  P00053842   2611.869436\n",
       "1000013  P00350442  11458.255481\n",
       "1000013  P00155442  13353.211842\n",
       "1000013   P0094542  10498.469756\n",
       "1000015  P00161842  14202.500000\n",
       "1000022  P00067942   6322.038819"
      ]
     },
     "execution_count": 128,
     "metadata": {},
     "output_type": "execute_result"
    }
   ],
   "source": [
    "test_final1.head(10)"
   ]
  },
  {
   "cell_type": "code",
   "execution_count": null,
   "metadata": {
    "collapsed": true
   },
   "outputs": [],
   "source": []
  },
  {
   "cell_type": "code",
   "execution_count": 129,
   "metadata": {
    "collapsed": true
   },
   "outputs": [],
   "source": [
    "test_final1.to_csv(\"Submission1.csv\")"
   ]
  },
  {
   "cell_type": "code",
   "execution_count": 130,
   "metadata": {
    "collapsed": false
   },
   "outputs": [
    {
     "data": {
      "text/plain": [
       "(233599, 2)"
      ]
     },
     "execution_count": 130,
     "metadata": {},
     "output_type": "execute_result"
    }
   ],
   "source": [
    "test_final1.shape"
   ]
  },
  {
   "cell_type": "code",
   "execution_count": 131,
   "metadata": {
    "collapsed": false
   },
   "outputs": [
    {
     "name": "stdout",
     "output_type": "stream",
     "text": [
      "<class 'pandas.core.frame.DataFrame'>\n",
      "Int64Index: 233599 entries, 1000004 to 1006039\n",
      "Data columns (total 2 columns):\n",
      "Product_ID    233599 non-null object\n",
      "Purchase      233599 non-null float64\n",
      "dtypes: float64(1), object(1)\n",
      "memory usage: 5.3+ MB\n"
     ]
    }
   ],
   "source": [
    "test_final1.info()"
   ]
  },
  {
   "cell_type": "code",
   "execution_count": null,
   "metadata": {
    "collapsed": true
   },
   "outputs": [],
   "source": []
  }
 ],
 "metadata": {
  "anaconda-cloud": {},
  "kernelspec": {
   "display_name": "Python [conda root]",
   "language": "python",
   "name": "conda-root-py"
  },
  "language_info": {
   "codemirror_mode": {
    "name": "ipython",
    "version": 3
   },
   "file_extension": ".py",
   "mimetype": "text/x-python",
   "name": "python",
   "nbconvert_exporter": "python",
   "pygments_lexer": "ipython3",
   "version": "3.5.2"
  }
 },
 "nbformat": 4,
 "nbformat_minor": 1
}
